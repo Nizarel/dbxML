{
 "cells": [
  {
   "cell_type": "markdown",
   "metadata": {
    "application/vnd.databricks.v1+cell": {
     "cellMetadata": {},
     "inputWidgets": {},
     "nuid": "1e66063d-41f6-40da-aa11-0f3e79cc0097",
     "showTitle": false,
     "title": ""
    }
   },
   "source": [
    "# Data Exploration\n",
    "- This notebook performs exploratory data analysis on the dataset.\n",
    "- To expand on the analysis, attach this notebook to a cluster with runtime version **13.3.x-cpu-ml-scala2.12**, and rerun it.\n",
    "- Explore completed trials in the [MLflow experiment](#mlflow/experiments/1257688160348477)."
   ]
  },
  {
   "cell_type": "code",
   "execution_count": 0,
   "metadata": {
    "application/vnd.databricks.v1+cell": {
     "cellMetadata": {},
     "inputWidgets": {},
     "nuid": "1f7e7d6d-c91e-47db-a08d-936e6f901b15",
     "showTitle": false,
     "title": ""
    }
   },
   "outputs": [],
   "source": [
    "import os\n",
    "import uuid\n",
    "import pandas as pd\n",
    "import shutil\n",
    "import databricks.automl_runtime\n",
    "import pyspark.pandas as ps\n",
    "\n",
    "import mlflow\n",
    "\n",
    "ps.options.plotting.backend = \"matplotlib\"\n",
    "\n",
    "# Download input data from mlflow into a pyspark.pandas DataFrame\n",
    "# create temp directory to download data\n",
    "exp_temp_dir = os.path.join(os.environ[\"SPARK_LOCAL_DIRS\"], \"tmp\", str(uuid.uuid4())[:8])\n",
    "os.makedirs(exp_temp_dir)\n",
    "\n",
    "# download the artifact and read it\n",
    "exp_data_path = mlflow.artifacts.download_artifacts(run_id=\"076e237584b34b63a03673556788bc87\", artifact_path=\"data\", dst_path=exp_temp_dir)\n",
    "exp_file_path = os.path.join(exp_data_path, \"training_data\")\n",
    "exp_file_path  = \"file://\" + exp_file_path\n",
    "\n",
    "df = ps.from_pandas(pd.read_parquet(exp_file_path)).spark.cache()\n",
    "\n",
    "target_col = \"cases\"\n",
    "time_col = \"date\""
   ]
  },
  {
   "cell_type": "markdown",
   "metadata": {
    "application/vnd.databricks.v1+cell": {
     "cellMetadata": {},
     "inputWidgets": {},
     "nuid": "0f97d581-5047-485f-b186-b2f2eba42a6d",
     "showTitle": false,
     "title": ""
    }
   },
   "source": [
    "### Aggregate data"
   ]
  },
  {
   "cell_type": "code",
   "execution_count": 0,
   "metadata": {
    "application/vnd.databricks.v1+cell": {
     "cellMetadata": {},
     "inputWidgets": {},
     "nuid": "00d0357b-8ad6-4e8c-9678-eda5e8920f1d",
     "showTitle": false,
     "title": ""
    }
   },
   "outputs": [],
   "source": [
    "group_cols = [time_col]\n",
    "\n",
    "df_aggregated = df \\\n",
    "  .groupby(group_cols) \\\n",
    "  .agg(cases=(target_col, \"avg\")) \\\n",
    "  .reset_index()"
   ]
  },
  {
   "cell_type": "markdown",
   "metadata": {
    "application/vnd.databricks.v1+cell": {
     "cellMetadata": {},
     "inputWidgets": {},
     "nuid": "3c1d04fb-e217-4c16-ac30-baa7e9b6b910",
     "showTitle": false,
     "title": ""
    }
   },
   "source": [
    "## Time column Analysis"
   ]
  },
  {
   "cell_type": "markdown",
   "metadata": {
    "application/vnd.databricks.v1+cell": {
     "cellMetadata": {},
     "inputWidgets": {},
     "nuid": "42ad21c3-3d96-4de3-8dea-79ee06332aba",
     "showTitle": false,
     "title": ""
    }
   },
   "source": [
    "Show the time range for the time series"
   ]
  },
  {
   "cell_type": "code",
   "execution_count": 0,
   "metadata": {
    "application/vnd.databricks.v1+cell": {
     "cellMetadata": {},
     "inputWidgets": {},
     "nuid": "06270ec3-d762-48c2-a630-5d1eec388aaf",
     "showTitle": false,
     "title": ""
    }
   },
   "outputs": [],
   "source": [
    "df_time_range = df_aggregated[time_col].agg([\"min\", \"max\"])\n",
    "df_time_range"
   ]
  },
  {
   "cell_type": "markdown",
   "metadata": {
    "application/vnd.databricks.v1+cell": {
     "cellMetadata": {},
     "inputWidgets": {},
     "nuid": "d9ef3f96-9771-4538-a1b8-a2d75b8ff5ff",
     "showTitle": false,
     "title": ""
    }
   },
   "source": [
    "## Target Value Analysis"
   ]
  },
  {
   "cell_type": "markdown",
   "metadata": {
    "application/vnd.databricks.v1+cell": {
     "cellMetadata": {},
     "inputWidgets": {},
     "nuid": "063ca152-4dc6-40ab-a58b-c60d335b9fd1",
     "showTitle": false,
     "title": ""
    }
   },
   "source": [
    "Time series target value status"
   ]
  },
  {
   "cell_type": "code",
   "execution_count": 0,
   "metadata": {
    "application/vnd.databricks.v1+cell": {
     "cellMetadata": {},
     "inputWidgets": {},
     "nuid": "557739f9-3471-451a-b45b-05c3da34a90b",
     "showTitle": false,
     "title": ""
    }
   },
   "outputs": [],
   "source": [
    "target_stats_df = df_aggregated[target_col].describe()\n",
    "display(target_stats_df.reset_index())"
   ]
  },
  {
   "cell_type": "markdown",
   "metadata": {
    "application/vnd.databricks.v1+cell": {
     "cellMetadata": {},
     "inputWidgets": {},
     "nuid": "b63704f1-2f89-4cc8-84b0-4f2526aa841d",
     "showTitle": false,
     "title": ""
    }
   },
   "source": [
    "Check the number of missing values in the target column."
   ]
  },
  {
   "cell_type": "code",
   "execution_count": 0,
   "metadata": {
    "application/vnd.databricks.v1+cell": {
     "cellMetadata": {},
     "inputWidgets": {},
     "nuid": "6a82a346-6901-4bc5-af84-0f8fe6be4d4b",
     "showTitle": false,
     "title": ""
    }
   },
   "outputs": [],
   "source": [
    "def num_nulls(x):\n",
    "  num_nulls = x.isnull().sum()\n",
    "  return pd.Series(num_nulls)\n",
    "\n",
    "null_stats_df = df_aggregated.apply(num_nulls)[target_col]\n",
    "null_stats_df"
   ]
  },
  {
   "cell_type": "markdown",
   "metadata": {
    "application/vnd.databricks.v1+cell": {
     "cellMetadata": {},
     "inputWidgets": {},
     "nuid": "6dc5aa19-2e15-4919-97b4-1e3f30eee64e",
     "showTitle": false,
     "title": ""
    }
   },
   "source": [
    "## Visualize the Data"
   ]
  },
  {
   "cell_type": "code",
   "execution_count": 0,
   "metadata": {
    "application/vnd.databricks.v1+cell": {
     "cellMetadata": {},
     "inputWidgets": {},
     "nuid": "f63bb094-88aa-4f8a-9eb3-ac7d1cd91098",
     "showTitle": false,
     "title": ""
    }
   },
   "outputs": [],
   "source": [
    "df_sub = df_aggregated\n",
    "\n",
    "df_sub = df_sub.filter(items=[time_col, target_col])\n",
    "df_sub.set_index(time_col, inplace=True)\n",
    "df_sub[target_col] = df_sub[target_col].astype(\"float\")\n",
    "\n",
    "fig = df_sub.plot()"
   ]
  },
  {
   "cell_type": "code",
   "execution_count": 0,
   "metadata": {
    "application/vnd.databricks.v1+cell": {
     "cellMetadata": {},
     "inputWidgets": {},
     "nuid": "34fcde3e-510a-41f4-9d87-7fb12db4556a",
     "showTitle": false,
     "title": ""
    }
   },
   "outputs": [],
   "source": [
    "# delete the temp data\n",
    "shutil.rmtree(exp_temp_dir)"
   ]
  }
 ],
 "metadata": {
  "application/vnd.databricks.v1+notebook": {
   "dashboards": [],
   "environmentMetadata": null,
   "language": "python",
   "notebookMetadata": {},
   "notebookName": "24-08-04-00:36-DataExploration-9b787a58aad4d654c45bc3537d3364f0",
   "widgets": {}
  },
  "name": "DataExploration-9b787a58aad4d654c45bc3537d3364f0"
 },
 "nbformat": 4,
 "nbformat_minor": 0
}
