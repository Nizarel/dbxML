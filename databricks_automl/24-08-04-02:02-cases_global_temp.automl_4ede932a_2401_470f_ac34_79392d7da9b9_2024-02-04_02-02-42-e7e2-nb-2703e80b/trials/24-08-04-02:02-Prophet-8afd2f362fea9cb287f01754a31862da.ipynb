{
 "cells": [
  {
   "cell_type": "markdown",
   "metadata": {
    "application/vnd.databricks.v1+cell": {
     "cellMetadata": {},
     "inputWidgets": {},
     "nuid": "da6a9bac-e8e2-4077-b62f-8f0982278a65",
     "showTitle": false,
     "title": ""
    }
   },
   "source": [
    "# Prophet training\n",
    "- This is an auto-generated notebook.\n",
    "- To reproduce these results, attach this notebook to a cluster with runtime version **13.3.x-cpu-ml-scala2.12**, and rerun it.\n",
    "- Compare trials in the [MLflow experiment](#mlflow/experiments/3275986367786501).\n",
    "- Clone this notebook into your project folder by selecting **File > Clone** in the notebook toolbar."
   ]
  },
  {
   "cell_type": "code",
   "execution_count": 0,
   "metadata": {
    "application/vnd.databricks.v1+cell": {
     "cellMetadata": {},
     "inputWidgets": {},
     "nuid": "cb9fe596-28df-4e72-a02a-787841d185aa",
     "showTitle": false,
     "title": ""
    }
   },
   "outputs": [],
   "source": [
    "import mlflow\n",
    "import databricks.automl_runtime\n",
    "\n",
    "target_col = \"cases\"\n",
    "time_col = \"date\"\n",
    "unit = \"day\"\n",
    "\n",
    "horizon = 30"
   ]
  },
  {
   "cell_type": "markdown",
   "metadata": {
    "application/vnd.databricks.v1+cell": {
     "cellMetadata": {},
     "inputWidgets": {},
     "nuid": "542970fd-3028-457a-8c00-c5823e4347f4",
     "showTitle": false,
     "title": ""
    }
   },
   "source": [
    "## Load Data"
   ]
  },
  {
   "cell_type": "code",
   "execution_count": 0,
   "metadata": {
    "application/vnd.databricks.v1+cell": {
     "cellMetadata": {},
     "inputWidgets": {},
     "nuid": "8ccf8adf-cb96-4858-83c3-b1bfec10643f",
     "showTitle": false,
     "title": ""
    }
   },
   "outputs": [],
   "source": [
    "import mlflow\n",
    "import os\n",
    "import uuid\n",
    "import shutil\n",
    "import pandas as pd\n",
    "import pyspark.pandas as ps\n",
    "\n",
    "# Create temp directory to download input data from MLflow\n",
    "input_temp_dir = os.path.join(os.environ[\"SPARK_LOCAL_DIRS\"], \"tmp\", str(uuid.uuid4())[:8])\n",
    "os.makedirs(input_temp_dir)\n",
    "\n",
    "# Download the artifact and read it into a pandas DataFrame\n",
    "input_data_path = mlflow.artifacts.download_artifacts(run_id=\"b0ddf40a71a44854857c7199a5525bf1\", artifact_path=\"data\", dst_path=input_temp_dir)\n",
    "\n",
    "input_file_path = os.path.join(input_data_path, \"training_data\")\n",
    "input_file_path = \"file://\" + input_file_path\n",
    "df_loaded = ps.from_pandas(pd.read_parquet(input_file_path))\n",
    "\n",
    "# Preview data\n",
    "df_loaded.head(5)"
   ]
  },
  {
   "cell_type": "markdown",
   "metadata": {
    "application/vnd.databricks.v1+cell": {
     "cellMetadata": {},
     "inputWidgets": {},
     "nuid": "0cd2eb75-6d37-4d6f-9c1b-e215c5ccd094",
     "showTitle": false,
     "title": ""
    }
   },
   "source": [
    "## Aggregate data by `time_col`\n",
    "Group the data by `time_col`, and take average if there are multiple `target_col` values in the same group."
   ]
  },
  {
   "cell_type": "code",
   "execution_count": 0,
   "metadata": {
    "application/vnd.databricks.v1+cell": {
     "cellMetadata": {},
     "inputWidgets": {},
     "nuid": "587f15ac-b545-43c4-a4c1-f4723c14a4f5",
     "showTitle": false,
     "title": ""
    }
   },
   "outputs": [],
   "source": [
    "group_cols = [time_col]\n",
    "df_aggregated = df_loaded \\\n",
    "  .groupby(group_cols) \\\n",
    "  .agg(y=(target_col, \"avg\")) \\\n",
    "  .reset_index()\n",
    "\n",
    "df_aggregated.head()"
   ]
  },
  {
   "cell_type": "markdown",
   "metadata": {
    "application/vnd.databricks.v1+cell": {
     "cellMetadata": {},
     "inputWidgets": {},
     "nuid": "9dd2905b-d436-4384-8e3f-de3728835500",
     "showTitle": false,
     "title": ""
    }
   },
   "source": [
    "## Train Prophet model\n",
    "- Log relevant metrics to MLflow to track runs\n",
    "- All the runs are logged under [this MLflow experiment](#mlflow/experiments/3275986367786501)\n",
    "- Change the model parameters and re-run the training cell to log a different trial to the MLflow experiment"
   ]
  },
  {
   "cell_type": "code",
   "execution_count": 0,
   "metadata": {
    "application/vnd.databricks.v1+cell": {
     "cellMetadata": {},
     "inputWidgets": {},
     "nuid": "874827ba-1f77-4938-ba8a-0450d8bfc985",
     "showTitle": false,
     "title": ""
    }
   },
   "outputs": [],
   "source": []
  },
  {
   "cell_type": "code",
   "execution_count": 0,
   "metadata": {
    "application/vnd.databricks.v1+cell": {
     "cellMetadata": {},
     "inputWidgets": {},
     "nuid": "bd93e4d4-7f51-4246-8265-c17e54d05efa",
     "showTitle": false,
     "title": ""
    }
   },
   "outputs": [],
   "source": [
    "import logging\n",
    "\n",
    "# disable informational messages from prophet\n",
    "logging.getLogger(\"py4j\").setLevel(logging.WARNING)"
   ]
  },
  {
   "cell_type": "code",
   "execution_count": 0,
   "metadata": {
    "application/vnd.databricks.v1+cell": {
     "cellMetadata": {},
     "inputWidgets": {},
     "nuid": "12b12bb5-2caf-41d3-b495-56c8a605ad1e",
     "showTitle": false,
     "title": ""
    }
   },
   "outputs": [],
   "source": [
    "result_columns = [\"model_json\", \"mse\", \"rmse\", \"mae\", \"mape\", \"mdape\", \"smape\", \"coverage\"]\n",
    "\n",
    "def prophet_training(history_pd):\n",
    "  from hyperopt import hp\n",
    "  from databricks.automl_runtime.forecast.prophet.forecast import ProphetHyperoptEstimator\n",
    "\n",
    "  seasonality_mode = [\"additive\", \"multiplicative\"]\n",
    "  search_space =  {\n",
    "    \"changepoint_prior_scale\": hp.loguniform(\"changepoint_prior_scale\", -6.9, -0.69),\n",
    "    \"seasonality_prior_scale\": hp.loguniform(\"seasonality_prior_scale\", -6.9, 2.3),\n",
    "    \"holidays_prior_scale\": hp.loguniform(\"holidays_prior_scale\", -6.9, 2.3),\n",
    "    \"seasonality_mode\": hp.choice(\"seasonality_mode\", seasonality_mode)\n",
    "  }\n",
    "  country_holidays=\"US\"\n",
    "  run_parallel = True\n",
    " \n",
    "  hyperopt_estim = ProphetHyperoptEstimator(horizon=horizon, frequency_unit=unit, metric=\"mdape\",interval_width=0.95,\n",
    "                   country_holidays=country_holidays, search_space=search_space, num_folds=20, max_eval=10, trial_timeout=549,\n",
    "                   random_state=914823437, is_parallel=run_parallel)\n",
    "\n",
    "  spark.conf.set(\"spark.databricks.mlflow.trackHyperopt.enabled\", \"false\")\n",
    "\n",
    "  results_pd = hyperopt_estim.fit(history_pd)\n",
    "\n",
    "  spark.conf.set(\"spark.databricks.mlflow.trackHyperopt.enabled\", \"true\")\n",
    " \n",
    "  return results_pd[result_columns]"
   ]
  },
  {
   "cell_type": "code",
   "execution_count": 0,
   "metadata": {
    "application/vnd.databricks.v1+cell": {
     "cellMetadata": {},
     "inputWidgets": {},
     "nuid": "874a7a43-a357-4a87-9cc2-4fad3c9b0dfb",
     "showTitle": false,
     "title": ""
    }
   },
   "outputs": [],
   "source": [
    "import mlflow\n",
    "from databricks.automl_runtime.forecast.prophet.model import mlflow_prophet_log_model, ProphetModel\n",
    "\n",
    "with mlflow.start_run(experiment_id=\"3275986367786501\", run_name=\"Prophet\") as mlflow_run:\n",
    "  mlflow.set_tag(\"estimator_name\", \"Prophet\")\n",
    "  mlflow.log_param(\"holiday_country\", \"US\")\n",
    "  mlflow.log_param(\"interval_width\", 0.95)\n",
    "  df_aggregated = df_aggregated.rename(columns={time_col: \"ds\"})\n",
    "\n",
    "  forecast_results = prophet_training(df_aggregated.to_pandas())\n",
    "    \n",
    "  # Log the metrics to mlflow\n",
    "  avg_metrics = forecast_results[[\"mse\", \"rmse\", \"mae\", \"mape\", \"mdape\", \"smape\", \"coverage\"]].mean().to_frame(name=\"mean_metrics\").reset_index()\n",
    "  avg_metrics[\"index\"] = \"val_\" + avg_metrics[\"index\"].astype(str)\n",
    "  avg_metrics.set_index(\"index\", inplace=True)\n",
    "  mlflow.log_metrics(avg_metrics.to_dict()[\"mean_metrics\"])\n",
    "\n",
    "  # Create mlflow prophet model\n",
    "  model_json = forecast_results[\"model_json\"].to_list()[0]\n",
    "  prophet_model = ProphetModel(model_json, horizon, unit, time_col)\n",
    "  mlflow_prophet_log_model(prophet_model)"
   ]
  },
  {
   "cell_type": "code",
   "execution_count": 0,
   "metadata": {
    "application/vnd.databricks.v1+cell": {
     "cellMetadata": {},
     "inputWidgets": {},
     "nuid": "c56a012a-07f0-4128-ad8b-ea981adfa5b8",
     "showTitle": false,
     "title": ""
    }
   },
   "outputs": [],
   "source": [
    "forecast_results.head(5)"
   ]
  },
  {
   "cell_type": "markdown",
   "metadata": {
    "application/vnd.databricks.v1+cell": {
     "cellMetadata": {},
     "inputWidgets": {},
     "nuid": "76569ddd-1dd2-470f-b875-58a6d00d3ecc",
     "showTitle": false,
     "title": ""
    }
   },
   "source": [
    "## Analyze the predicted results"
   ]
  },
  {
   "cell_type": "code",
   "execution_count": 0,
   "metadata": {
    "application/vnd.databricks.v1+cell": {
     "cellMetadata": {},
     "inputWidgets": {},
     "nuid": "9fbf03a6-18a1-44c3-8bc1-acab0468d89a",
     "showTitle": false,
     "title": ""
    }
   },
   "outputs": [],
   "source": [
    "# Load the model\n",
    "run_id = mlflow_run.info.run_id\n",
    "loaded_model = mlflow.pyfunc.load_model(f\"runs:/{run_id}/model\")"
   ]
  },
  {
   "cell_type": "code",
   "execution_count": 0,
   "metadata": {
    "application/vnd.databricks.v1+cell": {
     "cellMetadata": {},
     "inputWidgets": {},
     "nuid": "6e3f8c8a-1554-4f14-a786-7bd8855c1918",
     "showTitle": false,
     "title": ""
    }
   },
   "outputs": [],
   "source": [
    "future_df = loaded_model._model_impl.python_model.make_future_dataframe()\n",
    "future_df.head()"
   ]
  },
  {
   "cell_type": "code",
   "execution_count": 0,
   "metadata": {
    "application/vnd.databricks.v1+cell": {
     "cellMetadata": {},
     "inputWidgets": {},
     "nuid": "182eceec-db6f-473d-bca3-6d2082b89d02",
     "showTitle": false,
     "title": ""
    }
   },
   "outputs": [],
   "source": [
    "# Predict future with the default horizon\n",
    "forecast_pd = loaded_model._model_impl.python_model.model().predict(future_df)"
   ]
  },
  {
   "cell_type": "code",
   "execution_count": 0,
   "metadata": {
    "application/vnd.databricks.v1+cell": {
     "cellMetadata": {},
     "inputWidgets": {},
     "nuid": "fc14134a-bc71-4e63-b614-d1d58504da0f",
     "showTitle": false,
     "title": ""
    }
   },
   "outputs": [],
   "source": [
    "# Plotly plots is turned off by default because it takes up a lot of storage.\n",
    "# Set this flag to True and re-run the notebook to see the interactive plots with plotly\n",
    "use_plotly = False"
   ]
  },
  {
   "cell_type": "code",
   "execution_count": 0,
   "metadata": {
    "application/vnd.databricks.v1+cell": {
     "cellMetadata": {},
     "inputWidgets": {},
     "nuid": "842f22a5-1ee4-4233-87e7-f891b8e40a45",
     "showTitle": false,
     "title": ""
    }
   },
   "outputs": [],
   "source": [
    "# Get prophet model\n",
    "model = loaded_model._model_impl.python_model.model()\n",
    "predict_pd = forecast_pd"
   ]
  },
  {
   "cell_type": "markdown",
   "metadata": {
    "application/vnd.databricks.v1+cell": {
     "cellMetadata": {},
     "inputWidgets": {},
     "nuid": "245e99d4-ffcd-48d1-b66b-fd6b55fb05d1",
     "showTitle": false,
     "title": ""
    }
   },
   "source": [
    "### Plot the forecast with change points and trend\n",
    "Plot the forecast using the `plot` method with your forecast dataframe. You can use `prophet.plot.add_changepoints_to_plot` to overlay significant changepoints. An interactive figure can be created with plotly."
   ]
  },
  {
   "cell_type": "code",
   "execution_count": 0,
   "metadata": {
    "application/vnd.databricks.v1+cell": {
     "cellMetadata": {},
     "inputWidgets": {},
     "nuid": "7f791c40-84c9-4f52-afd8-7284bcaaff24",
     "showTitle": false,
     "title": ""
    }
   },
   "outputs": [],
   "source": [
    "from prophet.plot import add_changepoints_to_plot, plot_plotly\n",
    "\n",
    "if use_plotly:\n",
    "    fig = plot_plotly(model, predict_pd, changepoints=True, trend=True, figsize=(1200, 600))\n",
    "else:\n",
    "    fig = model.plot(predict_pd)\n",
    "    a = add_changepoints_to_plot(fig.gca(), model, predict_pd)\n",
    "fig"
   ]
  },
  {
   "cell_type": "markdown",
   "metadata": {
    "application/vnd.databricks.v1+cell": {
     "cellMetadata": {},
     "inputWidgets": {},
     "nuid": "0225ae35-1722-4fec-9d6e-bb802454b58e",
     "showTitle": false,
     "title": ""
    }
   },
   "source": [
    "### Plot the forecast components\n",
    "Use the `Prophet.plot_components` method to see the components. By default you'll see the trend, yearly seasonality, and weekly seasonality of the time series. You can also include holidays. An interactive figure can be created with plotly."
   ]
  },
  {
   "cell_type": "code",
   "execution_count": 0,
   "metadata": {
    "application/vnd.databricks.v1+cell": {
     "cellMetadata": {},
     "inputWidgets": {},
     "nuid": "6ea2c7fc-6b5f-491f-ba70-72a4663c3918",
     "showTitle": false,
     "title": ""
    }
   },
   "outputs": [],
   "source": [
    "from prophet.plot import plot_components_plotly\n",
    "if use_plotly:\n",
    "    fig = plot_components_plotly(model, predict_pd, figsize=(900, 400))\n",
    "    fig.show()\n",
    "else:\n",
    "    fig = model.plot_components(predict_pd)"
   ]
  },
  {
   "cell_type": "markdown",
   "metadata": {
    "application/vnd.databricks.v1+cell": {
     "cellMetadata": {},
     "inputWidgets": {},
     "nuid": "6f4869e1-cce9-41c1-8749-bbf14dbe0790",
     "showTitle": false,
     "title": ""
    }
   },
   "source": [
    "## Show the predicted results"
   ]
  },
  {
   "cell_type": "code",
   "execution_count": 0,
   "metadata": {
    "application/vnd.databricks.v1+cell": {
     "cellMetadata": {},
     "inputWidgets": {},
     "nuid": "843d78e6-9b95-451c-ba8f-9a16b72bcf87",
     "showTitle": false,
     "title": ""
    }
   },
   "outputs": [],
   "source": [
    "predict_cols = [\"ds\", \"yhat\"]\n",
    "forecast_pd = forecast_pd.reset_index()\n",
    "display(forecast_pd[predict_cols].tail(horizon))"
   ]
  }
 ],
 "metadata": {
  "application/vnd.databricks.v1+notebook": {
   "dashboards": [],
   "environmentMetadata": null,
   "language": "python",
   "notebookMetadata": {},
   "notebookName": "24-08-04-02:02-Prophet-8afd2f362fea9cb287f01754a31862da",
   "widgets": {}
  },
  "name": "Prophet-8afd2f362fea9cb287f01754a31862da"
 },
 "nbformat": 4,
 "nbformat_minor": 0
}
