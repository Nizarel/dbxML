{
 "cells": [
  {
   "cell_type": "markdown",
   "metadata": {
    "application/vnd.databricks.v1+cell": {
     "cellMetadata": {},
     "inputWidgets": {},
     "nuid": "854383f5-d4eb-41bd-a05c-e80e452bc76e",
     "showTitle": false,
     "title": ""
    }
   },
   "source": [
    "# Data Exploration\n",
    "- This notebook performs exploratory data analysis on the dataset.\n",
    "- To expand on the analysis, attach this notebook to a cluster with runtime version **15.2.x-cpu-ml-scala2.12**, and rerun it.\n",
    "- Explore completed trials in the [MLflow experiment](#mlflow/experiments/1257688160347858)."
   ]
  },
  {
   "cell_type": "code",
   "execution_count": 0,
   "metadata": {
    "application/vnd.databricks.v1+cell": {
     "cellMetadata": {},
     "inputWidgets": {},
     "nuid": "99b0063c-c71f-4333-9309-37ebc81f8f97",
     "showTitle": false,
     "title": ""
    }
   },
   "outputs": [],
   "source": [
    "import os\n",
    "import uuid\n",
    "import pandas as pd\n",
    "import shutil\n",
    "import databricks.automl_runtime\n",
    "import pyspark.pandas as ps\n",
    "\n",
    "import mlflow\n",
    "\n",
    "ps.options.plotting.backend = \"matplotlib\"\n",
    "\n",
    "# Download input data from mlflow into a pyspark.pandas DataFrame\n",
    "# create temp directory to download data\n",
    "exp_temp_dir = os.path.join(os.environ[\"SPARK_LOCAL_DIRS\"], \"tmp\", str(uuid.uuid4())[:8])\n",
    "os.makedirs(exp_temp_dir)\n",
    "\n",
    "# download the artifact and read it\n",
    "exp_data_path = mlflow.artifacts.download_artifacts(run_id=\"646fc00ed14e4a6aa8db6d288d44a262\", artifact_path=\"data\", dst_path=exp_temp_dir)\n",
    "exp_file_path = os.path.join(exp_data_path, \"training_data\")\n",
    "exp_file_path  = \"file://\" + exp_file_path\n",
    "\n",
    "df = ps.from_pandas(pd.read_parquet(exp_file_path)).spark.cache()\n",
    "\n",
    "target_col = \"cases\"\n",
    "time_col = \"date\""
   ]
  },
  {
   "cell_type": "markdown",
   "metadata": {
    "application/vnd.databricks.v1+cell": {
     "cellMetadata": {},
     "inputWidgets": {},
     "nuid": "e4ebc87a-2fe6-4b12-88c0-e4ab3c3f51e5",
     "showTitle": false,
     "title": ""
    }
   },
   "source": [
    "### Aggregate data"
   ]
  },
  {
   "cell_type": "code",
   "execution_count": 0,
   "metadata": {
    "application/vnd.databricks.v1+cell": {
     "cellMetadata": {},
     "inputWidgets": {},
     "nuid": "b2bcbb4c-24de-4220-97a8-73202fb43137",
     "showTitle": false,
     "title": ""
    }
   },
   "outputs": [],
   "source": [
    "group_cols = [time_col]\n",
    "\n",
    "df_aggregated = df \\\n",
    "  .groupby(group_cols) \\\n",
    "  .agg(cases=(target_col, \"avg\")) \\\n",
    "  .reset_index()"
   ]
  },
  {
   "cell_type": "markdown",
   "metadata": {
    "application/vnd.databricks.v1+cell": {
     "cellMetadata": {},
     "inputWidgets": {},
     "nuid": "d04f9880-55d0-43bf-bb70-5c199a02e2ee",
     "showTitle": false,
     "title": ""
    }
   },
   "source": [
    "## Time column Analysis"
   ]
  },
  {
   "cell_type": "markdown",
   "metadata": {
    "application/vnd.databricks.v1+cell": {
     "cellMetadata": {},
     "inputWidgets": {},
     "nuid": "6edfeac1-a97c-4c49-b0ad-3f50045959f9",
     "showTitle": false,
     "title": ""
    }
   },
   "source": [
    "Show the time range for the time series"
   ]
  },
  {
   "cell_type": "code",
   "execution_count": 0,
   "metadata": {
    "application/vnd.databricks.v1+cell": {
     "cellMetadata": {},
     "inputWidgets": {},
     "nuid": "cc19bcce-06f9-49d7-8280-cabd1c23afe2",
     "showTitle": false,
     "title": ""
    }
   },
   "outputs": [],
   "source": [
    "df_time_range = df_aggregated[time_col].agg([\"min\", \"max\"])\n",
    "df_time_range"
   ]
  },
  {
   "cell_type": "markdown",
   "metadata": {
    "application/vnd.databricks.v1+cell": {
     "cellMetadata": {},
     "inputWidgets": {},
     "nuid": "3e2bc5e6-1c37-4ca5-9a57-4493fe98b5d4",
     "showTitle": false,
     "title": ""
    }
   },
   "source": [
    "## Target Value Analysis"
   ]
  },
  {
   "cell_type": "markdown",
   "metadata": {
    "application/vnd.databricks.v1+cell": {
     "cellMetadata": {},
     "inputWidgets": {},
     "nuid": "726451ca-56af-460e-834f-efa99fea08a1",
     "showTitle": false,
     "title": ""
    }
   },
   "source": [
    "Time series target value status"
   ]
  },
  {
   "cell_type": "code",
   "execution_count": 0,
   "metadata": {
    "application/vnd.databricks.v1+cell": {
     "cellMetadata": {},
     "inputWidgets": {},
     "nuid": "64652a85-0bc0-4587-a2ef-09eba1479c3d",
     "showTitle": false,
     "title": ""
    }
   },
   "outputs": [],
   "source": [
    "target_stats_df = df_aggregated[target_col].describe()\n",
    "display(target_stats_df.reset_index())"
   ]
  },
  {
   "cell_type": "markdown",
   "metadata": {
    "application/vnd.databricks.v1+cell": {
     "cellMetadata": {},
     "inputWidgets": {},
     "nuid": "92949d05-189d-4be4-89b3-d010c78535ab",
     "showTitle": false,
     "title": ""
    }
   },
   "source": [
    "Check the number of missing values in the target column."
   ]
  },
  {
   "cell_type": "code",
   "execution_count": 0,
   "metadata": {
    "application/vnd.databricks.v1+cell": {
     "cellMetadata": {},
     "inputWidgets": {},
     "nuid": "b694e244-24ff-4c01-8d48-4dc551a9684a",
     "showTitle": false,
     "title": ""
    }
   },
   "outputs": [],
   "source": [
    "def num_nulls(x):\n",
    "  num_nulls = x.isnull().sum()\n",
    "  return pd.Series(num_nulls)\n",
    "\n",
    "null_stats_df = df_aggregated.apply(num_nulls)[target_col]\n",
    "null_stats_df"
   ]
  },
  {
   "cell_type": "markdown",
   "metadata": {
    "application/vnd.databricks.v1+cell": {
     "cellMetadata": {},
     "inputWidgets": {},
     "nuid": "a7f92104-b688-490e-ba7e-0bc01f016f1c",
     "showTitle": false,
     "title": ""
    }
   },
   "source": [
    "## Visualize the Data"
   ]
  },
  {
   "cell_type": "code",
   "execution_count": 0,
   "metadata": {
    "application/vnd.databricks.v1+cell": {
     "cellMetadata": {},
     "inputWidgets": {},
     "nuid": "658c2013-83a0-4d9e-a8bc-6a8e08608550",
     "showTitle": false,
     "title": ""
    }
   },
   "outputs": [],
   "source": [
    "df_sub = df_aggregated\n",
    "\n",
    "df_sub = df_sub.filter(items=[time_col, target_col])\n",
    "df_sub.set_index(time_col, inplace=True)\n",
    "df_sub[target_col] = df_sub[target_col].astype(\"float\")"
   ]
  },
  {
   "cell_type": "code",
   "execution_count": 0,
   "metadata": {
    "application/vnd.databricks.v1+cell": {
     "cellMetadata": {},
     "inputWidgets": {},
     "nuid": "57008e68-ef54-48bc-b562-63c96c121841",
     "showTitle": false,
     "title": ""
    }
   },
   "outputs": [],
   "source": [
    "import matplotlib.pyplot as plt\n",
    "\n",
    "plt.plot(df_sub, label=target_col)\n",
    "plt.legend()\n",
    "plt.show()"
   ]
  },
  {
   "cell_type": "code",
   "execution_count": 0,
   "metadata": {
    "application/vnd.databricks.v1+cell": {
     "cellMetadata": {
      "byteLimit": 2048000,
      "rowLimit": 10000
     },
     "inputWidgets": {},
     "nuid": "2699732d-a898-4779-b836-927faa8034bc",
     "showTitle": false,
     "title": ""
    }
   },
   "outputs": [],
   "source": [
    "# delete the temp data\n",
    "shutil.rmtree(exp_temp_dir)"
   ]
  }
 ],
 "metadata": {
  "application/vnd.databricks.v1+notebook": {
   "dashboards": [],
   "environmentMetadata": null,
   "language": "python",
   "notebookMetadata": {
    "pythonIndentUnit": 4
   },
   "notebookName": "24-08-03-22:36-DataExploration-ca49218af6763e7d49e429b3ec82496b",
   "widgets": {}
  },
  "name": "DataExploration-ca49218af6763e7d49e429b3ec82496b"
 },
 "nbformat": 4,
 "nbformat_minor": 0
}
